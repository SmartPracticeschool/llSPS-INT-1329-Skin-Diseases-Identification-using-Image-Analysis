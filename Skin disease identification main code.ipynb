{
 "cells": [
  {
   "cell_type": "code",
   "execution_count": 5,
   "metadata": {},
   "outputs": [],
   "source": [
    "from keras.models import Sequential\n",
    "from keras.layers import Dense\n",
    "from keras.layers import Convolution2D\n",
    "from keras.layers import MaxPooling2D\n",
    "from keras.layers import Flatten"
   ]
  },
  {
   "cell_type": "code",
   "execution_count": 6,
   "metadata": {},
   "outputs": [
    {
     "name": "stdout",
     "output_type": "stream",
     "text": [
      "WARNING:tensorflow:From C:\\Users\\hp1\\downloads\\anaconda4\\lib\\site-packages\\keras\\backend\\tensorflow_backend.py:74: The name tf.get_default_graph is deprecated. Please use tf.compat.v1.get_default_graph instead.\n",
      "\n"
     ]
    }
   ],
   "source": [
    "model=Sequential()"
   ]
  },
  {
   "cell_type": "code",
   "execution_count": 7,
   "metadata": {},
   "outputs": [
    {
     "name": "stdout",
     "output_type": "stream",
     "text": [
      "WARNING:tensorflow:From C:\\Users\\hp1\\downloads\\anaconda4\\lib\\site-packages\\keras\\backend\\tensorflow_backend.py:517: The name tf.placeholder is deprecated. Please use tf.compat.v1.placeholder instead.\n",
      "\n",
      "WARNING:tensorflow:From C:\\Users\\hp1\\downloads\\anaconda4\\lib\\site-packages\\keras\\backend\\tensorflow_backend.py:4138: The name tf.random_uniform is deprecated. Please use tf.random.uniform instead.\n",
      "\n"
     ]
    },
    {
     "name": "stderr",
     "output_type": "stream",
     "text": [
      "C:\\Users\\hp1\\downloads\\anaconda4\\lib\\site-packages\\ipykernel_launcher.py:1: UserWarning: Update your `Conv2D` call to the Keras 2 API: `Conv2D(32, (32, 3), input_shape=(64, 64, 3..., activation=\"relu\")`\n",
      "  \"\"\"Entry point for launching an IPython kernel.\n"
     ]
    }
   ],
   "source": [
    "model.add(Convolution2D(32,32,3,input_shape=(64,64,3),activation='relu'))"
   ]
  },
  {
   "cell_type": "code",
   "execution_count": 8,
   "metadata": {},
   "outputs": [
    {
     "name": "stdout",
     "output_type": "stream",
     "text": [
      "WARNING:tensorflow:From C:\\Users\\hp1\\downloads\\anaconda4\\lib\\site-packages\\keras\\backend\\tensorflow_backend.py:3976: The name tf.nn.max_pool is deprecated. Please use tf.nn.max_pool2d instead.\n",
      "\n"
     ]
    }
   ],
   "source": [
    "model.add(MaxPooling2D(pool_size=(2,2)))"
   ]
  },
  {
   "cell_type": "code",
   "execution_count": 9,
   "metadata": {},
   "outputs": [],
   "source": [
    "model.add(Flatten())"
   ]
  },
  {
   "cell_type": "code",
   "execution_count": 10,
   "metadata": {},
   "outputs": [
    {
     "name": "stderr",
     "output_type": "stream",
     "text": [
      "C:\\Users\\hp1\\downloads\\anaconda4\\lib\\site-packages\\ipykernel_launcher.py:1: UserWarning: Update your `Dense` call to the Keras 2 API: `Dense(activation=\"relu\", units=300, kernel_initializer=\"uniform\")`\n",
      "  \"\"\"Entry point for launching an IPython kernel.\n"
     ]
    }
   ],
   "source": [
    "model.add(Dense(init='uniform',activation='relu',units=300))"
   ]
  },
  {
   "cell_type": "code",
   "execution_count": 13,
   "metadata": {},
   "outputs": [
    {
     "name": "stderr",
     "output_type": "stream",
     "text": [
      "C:\\Users\\hp1\\downloads\\anaconda4\\lib\\site-packages\\ipykernel_launcher.py:1: UserWarning: Update your `Dense` call to the Keras 2 API: `Dense(activation=\"softmax\", units=6, kernel_initializer=\"uniform\")`\n",
      "  \"\"\"Entry point for launching an IPython kernel.\n"
     ]
    }
   ],
   "source": [
    "model.add(Dense(init='uniform',activation=\"softmax\",units=6))"
   ]
  },
  {
   "cell_type": "code",
   "execution_count": 15,
   "metadata": {},
   "outputs": [
    {
     "name": "stdout",
     "output_type": "stream",
     "text": [
      "WARNING:tensorflow:From C:\\Users\\hp1\\downloads\\anaconda4\\lib\\site-packages\\keras\\backend\\tensorflow_backend.py:3295: The name tf.log is deprecated. Please use tf.math.log instead.\n",
      "\n"
     ]
    }
   ],
   "source": [
    "model.compile(loss=\"categorical_crossentropy\",optimizer=\"adam\",metrics=[\"accuracy\"])"
   ]
  },
  {
   "cell_type": "code",
   "execution_count": 16,
   "metadata": {},
   "outputs": [],
   "source": [
    "from keras.preprocessing.image import ImageDataGenerator"
   ]
  },
  {
   "cell_type": "code",
   "execution_count": 17,
   "metadata": {},
   "outputs": [],
   "source": [
    "train_datagen=ImageDataGenerator(rescale=1./255,shear_range=0.2,zoom_range=0.2,horizontal_flip=True)"
   ]
  },
  {
   "cell_type": "code",
   "execution_count": 18,
   "metadata": {},
   "outputs": [],
   "source": [
    "test_datagen=ImageDataGenerator(rescale=1./255)"
   ]
  },
  {
   "cell_type": "code",
   "execution_count": 20,
   "metadata": {},
   "outputs": [
    {
     "name": "stdout",
     "output_type": "stream",
     "text": [
      "Found 240 images belonging to 6 classes.\n",
      "Found 240 images belonging to 6 classes.\n"
     ]
    }
   ],
   "source": [
    "x_train=train_datagen.flow_from_directory(r\"C:\\dataset\\training_set\",target_size=(64,64),batch_size=32,class_mode=\"categorical\")\n",
    "x_test=train_datagen.flow_from_directory(r\"C:\\dataset\\test_set\",target_size=(64,64),batch_size=32,class_mode=\"categorical\")"
   ]
  },
  {
   "cell_type": "code",
   "execution_count": 22,
   "metadata": {},
   "outputs": [
    {
     "name": "stdout",
     "output_type": "stream",
     "text": [
      "Epoch 1/100\n",
      "8/8 [==============================] - 4s 496ms/step - loss: 1.7196 - acc: 0.2539 - val_loss: 1.7256 - val_acc: 0.2917\n",
      "Epoch 2/100\n",
      "8/8 [==============================] - 4s 454ms/step - loss: 1.6887 - acc: 0.2914 - val_loss: 1.7386 - val_acc: 0.2042\n",
      "Epoch 3/100\n",
      "8/8 [==============================] - 4s 456ms/step - loss: 1.7011 - acc: 0.3002 - val_loss: 1.6154 - val_acc: 0.3208\n",
      "Epoch 4/100\n",
      "8/8 [==============================] - 4s 458ms/step - loss: 1.6638 - acc: 0.3331 - val_loss: 1.6654 - val_acc: 0.3000\n",
      "Epoch 5/100\n",
      "8/8 [==============================] - 4s 458ms/step - loss: 1.6760 - acc: 0.2963 - val_loss: 1.6509 - val_acc: 0.3250\n",
      "Epoch 6/100\n",
      "8/8 [==============================] - 4s 457ms/step - loss: 1.5948 - acc: 0.3194 - val_loss: 1.5911 - val_acc: 0.3458\n",
      "Epoch 7/100\n",
      "8/8 [==============================] - 4s 461ms/step - loss: 1.6253 - acc: 0.3667 - val_loss: 1.5631 - val_acc: 0.3875\n",
      "Epoch 8/100\n",
      "8/8 [==============================] - 4s 454ms/step - loss: 1.5531 - acc: 0.3956 - val_loss: 1.5189 - val_acc: 0.4125\n",
      "Epoch 9/100\n",
      "8/8 [==============================] - 4s 458ms/step - loss: 1.5529 - acc: 0.3706 - val_loss: 1.4980 - val_acc: 0.4375\n",
      "Epoch 10/100\n",
      "8/8 [==============================] - 4s 452ms/step - loss: 1.4998 - acc: 0.4183 - val_loss: 1.4467 - val_acc: 0.4417\n",
      "Epoch 11/100\n",
      "8/8 [==============================] - 4s 448ms/step - loss: 1.4531 - acc: 0.4380 - val_loss: 1.3950 - val_acc: 0.4958\n",
      "Epoch 12/100\n",
      "8/8 [==============================] - 4s 456ms/step - loss: 1.3785 - acc: 0.4428 - val_loss: 1.3342 - val_acc: 0.4583\n",
      "Epoch 13/100\n",
      "8/8 [==============================] - 4s 456ms/step - loss: 1.3507 - acc: 0.4794 - val_loss: 1.3234 - val_acc: 0.4792\n",
      "Epoch 14/100\n",
      "8/8 [==============================] - 4s 464ms/step - loss: 1.2713 - acc: 0.5384 - val_loss: 1.3310 - val_acc: 0.4750\n",
      "Epoch 15/100\n",
      "8/8 [==============================] - 4s 453ms/step - loss: 1.3993 - acc: 0.4847 - val_loss: 1.2781 - val_acc: 0.5208\n",
      "Epoch 16/100\n",
      "8/8 [==============================] - 4s 466ms/step - loss: 1.2407 - acc: 0.5245 - val_loss: 1.2407 - val_acc: 0.5500\n",
      "Epoch 17/100\n",
      "8/8 [==============================] - 4s 451ms/step - loss: 1.2121 - acc: 0.5197 - val_loss: 1.2410 - val_acc: 0.5250\n",
      "Epoch 18/100\n",
      "8/8 [==============================] - 4s 448ms/step - loss: 1.1692 - acc: 0.5319 - val_loss: 1.1775 - val_acc: 0.5375\n",
      "Epoch 19/100\n",
      "8/8 [==============================] - 4s 454ms/step - loss: 1.1881 - acc: 0.5586 - val_loss: 1.0071 - val_acc: 0.6167\n",
      "Epoch 20/100\n",
      "8/8 [==============================] - 4s 461ms/step - loss: 1.0969 - acc: 0.5831 - val_loss: 1.1637 - val_acc: 0.5792\n",
      "Epoch 21/100\n",
      "8/8 [==============================] - 4s 452ms/step - loss: 1.1210 - acc: 0.6032 - val_loss: 1.0197 - val_acc: 0.6208\n",
      "Epoch 22/100\n",
      "8/8 [==============================] - 4s 448ms/step - loss: 1.1065 - acc: 0.5988 - val_loss: 0.9329 - val_acc: 0.6333\n",
      "Epoch 23/100\n",
      "8/8 [==============================] - 4s 462ms/step - loss: 0.9565 - acc: 0.6081 - val_loss: 0.9100 - val_acc: 0.6542\n",
      "Epoch 24/100\n",
      "8/8 [==============================] - 4s 458ms/step - loss: 0.9598 - acc: 0.6373 - val_loss: 0.8679 - val_acc: 0.7167\n",
      "Epoch 25/100\n",
      "8/8 [==============================] - 4s 452ms/step - loss: 0.9883 - acc: 0.6521 - val_loss: 0.8710 - val_acc: 0.7000\n",
      "Epoch 26/100\n",
      "8/8 [==============================] - 4s 460ms/step - loss: 0.9293 - acc: 0.6556 - val_loss: 0.8725 - val_acc: 0.6917\n",
      "Epoch 27/100\n",
      "8/8 [==============================] - 4s 454ms/step - loss: 0.8109 - acc: 0.7259 - val_loss: 0.8011 - val_acc: 0.7042\n",
      "Epoch 28/100\n",
      "8/8 [==============================] - 4s 460ms/step - loss: 0.9611 - acc: 0.6465 - val_loss: 0.8250 - val_acc: 0.7333\n",
      "Epoch 29/100\n",
      "8/8 [==============================] - 4s 464ms/step - loss: 0.8417 - acc: 0.6979 - val_loss: 0.6893 - val_acc: 0.7750\n",
      "Epoch 30/100\n",
      "8/8 [==============================] - 4s 467ms/step - loss: 0.7005 - acc: 0.7771 - val_loss: 0.6768 - val_acc: 0.8000\n",
      "Epoch 31/100\n",
      "8/8 [==============================] - 4s 464ms/step - loss: 0.6430 - acc: 0.7558 - val_loss: 0.6453 - val_acc: 0.8042\n",
      "Epoch 32/100\n",
      "8/8 [==============================] - 4s 466ms/step - loss: 0.7132 - acc: 0.7431 - val_loss: 0.6127 - val_acc: 0.7833\n",
      "Epoch 33/100\n",
      "8/8 [==============================] - 4s 472ms/step - loss: 0.6428 - acc: 0.7697 - val_loss: 0.6167 - val_acc: 0.8125\n",
      "Epoch 34/100\n",
      "8/8 [==============================] - 4s 467ms/step - loss: 0.6485 - acc: 0.7731 - val_loss: 0.6519 - val_acc: 0.7958\n",
      "Epoch 35/100\n",
      "8/8 [==============================] - 4s 469ms/step - loss: 0.6677 - acc: 0.7701 - val_loss: 0.6010 - val_acc: 0.8042\n",
      "Epoch 36/100\n",
      "8/8 [==============================] - 4s 474ms/step - loss: 0.5908 - acc: 0.7697 - val_loss: 0.6195 - val_acc: 0.7917\n",
      "Epoch 37/100\n",
      "8/8 [==============================] - 4s 471ms/step - loss: 0.6708 - acc: 0.7697 - val_loss: 0.5440 - val_acc: 0.8417\n",
      "Epoch 38/100\n",
      "8/8 [==============================] - 4s 469ms/step - loss: 0.5979 - acc: 0.8046 - val_loss: 0.5736 - val_acc: 0.7792\n",
      "Epoch 39/100\n",
      "8/8 [==============================] - 4s 483ms/step - loss: 0.6182 - acc: 0.7613 - val_loss: 0.4991 - val_acc: 0.8625\n",
      "Epoch 40/100\n",
      "8/8 [==============================] - 4s 477ms/step - loss: 0.5716 - acc: 0.8313 - val_loss: 0.4442 - val_acc: 0.8417\n",
      "Epoch 41/100\n",
      "8/8 [==============================] - 4s 467ms/step - loss: 0.4498 - acc: 0.8671 - val_loss: 0.4064 - val_acc: 0.8875\n",
      "Epoch 42/100\n",
      "8/8 [==============================] - 4s 474ms/step - loss: 0.5150 - acc: 0.8134 - val_loss: 0.4590 - val_acc: 0.8750\n",
      "Epoch 43/100\n",
      "8/8 [==============================] - 4s 487ms/step - loss: 0.4379 - acc: 0.8873 - val_loss: 0.4958 - val_acc: 0.8250\n",
      "Epoch 44/100\n",
      "8/8 [==============================] - 4s 461ms/step - loss: 0.4460 - acc: 0.8431 - val_loss: 0.3899 - val_acc: 0.8792\n",
      "Epoch 45/100\n",
      "8/8 [==============================] - 4s 478ms/step - loss: 0.4175 - acc: 0.8755 - val_loss: 0.3578 - val_acc: 0.8958\n",
      "Epoch 46/100\n",
      "8/8 [==============================] - 4s 462ms/step - loss: 0.3723 - acc: 0.8956 - val_loss: 0.3862 - val_acc: 0.8625\n",
      "Epoch 47/100\n",
      "8/8 [==============================] - 4s 475ms/step - loss: 0.3809 - acc: 0.8750 - val_loss: 0.3524 - val_acc: 0.8792\n",
      "Epoch 48/100\n",
      "8/8 [==============================] - 4s 467ms/step - loss: 0.4394 - acc: 0.8706 - val_loss: 0.3345 - val_acc: 0.9000\n",
      "Epoch 49/100\n",
      "8/8 [==============================] - 4s 470ms/step - loss: 0.3264 - acc: 0.8681 - val_loss: 0.3054 - val_acc: 0.9083\n",
      "Epoch 50/100\n",
      "8/8 [==============================] - 4s 479ms/step - loss: 0.3308 - acc: 0.8750 - val_loss: 0.3012 - val_acc: 0.9083\n",
      "Epoch 51/100\n",
      "8/8 [==============================] - 4s 468ms/step - loss: 0.2901 - acc: 0.9252 - val_loss: 0.2800 - val_acc: 0.9333\n",
      "Epoch 52/100\n",
      "8/8 [==============================] - 4s 471ms/step - loss: 0.2835 - acc: 0.8991 - val_loss: 0.3325 - val_acc: 0.8792\n",
      "Epoch 53/100\n",
      "8/8 [==============================] - 4s 467ms/step - loss: 0.3219 - acc: 0.9025 - val_loss: 0.3066 - val_acc: 0.9042\n",
      "Epoch 54/100\n",
      "8/8 [==============================] - 4s 477ms/step - loss: 0.2341 - acc: 0.9331 - val_loss: 0.2426 - val_acc: 0.9458\n",
      "Epoch 55/100\n",
      "8/8 [==============================] - 4s 479ms/step - loss: 0.2800 - acc: 0.9139 - val_loss: 0.2752 - val_acc: 0.9250\n",
      "Epoch 56/100\n",
      "8/8 [==============================] - 4s 471ms/step - loss: 0.3335 - acc: 0.8951 - val_loss: 0.3792 - val_acc: 0.8708\n",
      "Epoch 57/100\n",
      "8/8 [==============================] - 4s 468ms/step - loss: 0.3275 - acc: 0.8706 - val_loss: 0.3311 - val_acc: 0.8917\n",
      "Epoch 58/100\n",
      "8/8 [==============================] - 4s 471ms/step - loss: 0.2747 - acc: 0.9345 - val_loss: 0.3759 - val_acc: 0.8583\n",
      "Epoch 59/100\n",
      "8/8 [==============================] - 4s 468ms/step - loss: 0.3240 - acc: 0.9030 - val_loss: 0.3053 - val_acc: 0.8792\n",
      "Epoch 60/100\n",
      "8/8 [==============================] - 4s 475ms/step - loss: 0.2849 - acc: 0.8947 - val_loss: 0.3225 - val_acc: 0.9042\n",
      "Epoch 61/100\n",
      "8/8 [==============================] - 4s 468ms/step - loss: 0.3452 - acc: 0.8829 - val_loss: 0.3635 - val_acc: 0.8708\n",
      "Epoch 62/100\n",
      "8/8 [==============================] - 4s 504ms/step - loss: 0.2883 - acc: 0.9069 - val_loss: 0.2656 - val_acc: 0.9167\n",
      "Epoch 63/100\n",
      "8/8 [==============================] - 4s 495ms/step - loss: 0.3532 - acc: 0.8711 - val_loss: 0.2946 - val_acc: 0.8792\n",
      "Epoch 64/100\n",
      "8/8 [==============================] - 4s 464ms/step - loss: 0.2630 - acc: 0.9375 - val_loss: 0.2229 - val_acc: 0.9292\n",
      "Epoch 65/100\n",
      "8/8 [==============================] - 4s 457ms/step - loss: 0.2362 - acc: 0.9257 - val_loss: 0.1986 - val_acc: 0.9500\n",
      "Epoch 66/100\n",
      "8/8 [==============================] - 4s 458ms/step - loss: 0.2487 - acc: 0.9266 - val_loss: 0.3189 - val_acc: 0.9000\n",
      "Epoch 67/100\n",
      "8/8 [==============================] - 4s 493ms/step - loss: 0.2924 - acc: 0.9100 - val_loss: 0.1492 - val_acc: 0.9625\n",
      "Epoch 68/100\n",
      "8/8 [==============================] - 4s 497ms/step - loss: 0.1845 - acc: 0.9449 - val_loss: 0.1988 - val_acc: 0.9417\n",
      "Epoch 69/100\n",
      "8/8 [==============================] - 4s 456ms/step - loss: 0.1939 - acc: 0.9567 - val_loss: 0.1583 - val_acc: 0.9500\n",
      "Epoch 70/100\n",
      "8/8 [==============================] - 4s 470ms/step - loss: 0.1700 - acc: 0.9454 - val_loss: 0.1720 - val_acc: 0.9417\n",
      "Epoch 71/100\n",
      "8/8 [==============================] - 4s 465ms/step - loss: 0.1660 - acc: 0.9488 - val_loss: 0.1639 - val_acc: 0.9583\n",
      "Epoch 72/100\n",
      "8/8 [==============================] - 4s 468ms/step - loss: 0.1863 - acc: 0.9375 - val_loss: 0.1197 - val_acc: 0.9750\n",
      "Epoch 73/100\n",
      "8/8 [==============================] - 4s 467ms/step - loss: 0.1803 - acc: 0.9449 - val_loss: 0.1822 - val_acc: 0.9417\n",
      "Epoch 74/100\n",
      "8/8 [==============================] - 4s 467ms/step - loss: 0.1947 - acc: 0.9301 - val_loss: 0.1647 - val_acc: 0.9500\n",
      "Epoch 75/100\n",
      "8/8 [==============================] - 4s 470ms/step - loss: 0.1290 - acc: 0.9764 - val_loss: 0.1068 - val_acc: 0.9750\n",
      "Epoch 76/100\n",
      "8/8 [==============================] - 4s 454ms/step - loss: 0.1628 - acc: 0.9572 - val_loss: 0.1440 - val_acc: 0.9625\n",
      "Epoch 77/100\n",
      "8/8 [==============================] - 4s 456ms/step - loss: 0.1920 - acc: 0.9296 - val_loss: 0.1972 - val_acc: 0.9208\n",
      "Epoch 78/100\n",
      "8/8 [==============================] - 4s 450ms/step - loss: 0.2068 - acc: 0.9370 - val_loss: 0.1183 - val_acc: 0.9708\n",
      "Epoch 79/100\n",
      "8/8 [==============================] - 4s 444ms/step - loss: 0.1504 - acc: 0.9537 - val_loss: 0.1696 - val_acc: 0.9542\n",
      "Epoch 80/100\n",
      "8/8 [==============================] - 4s 478ms/step - loss: 0.1392 - acc: 0.9572 - val_loss: 0.1201 - val_acc: 0.9667\n",
      "Epoch 81/100\n",
      "8/8 [==============================] - 4s 457ms/step - loss: 0.1155 - acc: 0.9725 - val_loss: 0.1586 - val_acc: 0.9583\n",
      "Epoch 82/100\n",
      "8/8 [==============================] - 4s 441ms/step - loss: 0.1588 - acc: 0.9572 - val_loss: 0.1853 - val_acc: 0.9500\n",
      "Epoch 83/100\n",
      "8/8 [==============================] - 4s 454ms/step - loss: 0.1654 - acc: 0.9576 - val_loss: 0.1664 - val_acc: 0.9417\n",
      "Epoch 84/100\n",
      "8/8 [==============================] - 4s 454ms/step - loss: 0.1494 - acc: 0.9572 - val_loss: 0.1344 - val_acc: 0.9708\n",
      "Epoch 85/100\n",
      "8/8 [==============================] - 4s 452ms/step - loss: 0.1342 - acc: 0.9493 - val_loss: 0.0922 - val_acc: 0.9792\n",
      "Epoch 86/100\n",
      "8/8 [==============================] - 4s 454ms/step - loss: 0.1206 - acc: 0.9650 - val_loss: 0.1004 - val_acc: 0.9708\n",
      "Epoch 87/100\n",
      "8/8 [==============================] - 4s 462ms/step - loss: 0.1079 - acc: 0.9646 - val_loss: 0.1059 - val_acc: 0.9667\n",
      "Epoch 88/100\n",
      "8/8 [==============================] - 4s 460ms/step - loss: 0.1089 - acc: 0.9655 - val_loss: 0.0969 - val_acc: 0.9792\n",
      "Epoch 89/100\n",
      "8/8 [==============================] - 4s 450ms/step - loss: 0.0945 - acc: 0.9843 - val_loss: 0.1028 - val_acc: 0.9667\n",
      "Epoch 90/100\n",
      "8/8 [==============================] - 4s 458ms/step - loss: 0.1007 - acc: 0.9572 - val_loss: 0.1317 - val_acc: 0.9583\n",
      "Epoch 91/100\n",
      "8/8 [==============================] - 4s 460ms/step - loss: 0.1092 - acc: 0.9576 - val_loss: 0.0872 - val_acc: 0.9708\n",
      "Epoch 92/100\n",
      "8/8 [==============================] - 4s 460ms/step - loss: 0.1146 - acc: 0.9616 - val_loss: 0.0923 - val_acc: 0.9792\n",
      "Epoch 93/100\n",
      "8/8 [==============================] - 4s 454ms/step - loss: 0.0984 - acc: 0.9843 - val_loss: 0.0850 - val_acc: 0.9833\n",
      "Epoch 94/100\n",
      "8/8 [==============================] - 4s 469ms/step - loss: 0.1224 - acc: 0.9567 - val_loss: 0.1090 - val_acc: 0.9625\n",
      "Epoch 95/100\n",
      "8/8 [==============================] - 4s 449ms/step - loss: 0.1273 - acc: 0.9690 - val_loss: 0.1448 - val_acc: 0.9750\n",
      "Epoch 96/100\n",
      "8/8 [==============================] - 4s 463ms/step - loss: 0.1295 - acc: 0.9650 - val_loss: 0.0814 - val_acc: 0.9833\n",
      "Epoch 97/100\n",
      "8/8 [==============================] - 4s 469ms/step - loss: 0.0880 - acc: 0.9803 - val_loss: 0.1319 - val_acc: 0.9625\n",
      "Epoch 98/100\n",
      "8/8 [==============================] - 4s 450ms/step - loss: 0.1151 - acc: 0.9685 - val_loss: 0.1012 - val_acc: 0.9750\n",
      "Epoch 99/100\n",
      "8/8 [==============================] - 4s 456ms/step - loss: 0.1237 - acc: 0.9650 - val_loss: 0.1614 - val_acc: 0.9542\n",
      "Epoch 100/100\n",
      "8/8 [==============================] - 4s 503ms/step - loss: 0.1887 - acc: 0.9611 - val_loss: 0.1777 - val_acc: 0.9500\n"
     ]
    },
    {
     "data": {
      "text/plain": [
       "<keras.callbacks.History at 0x110ba6a08>"
      ]
     },
     "execution_count": 22,
     "metadata": {},
     "output_type": "execute_result"
    }
   ],
   "source": [
    "model.fit_generator(x_train,steps_per_epoch=8,epochs=100,validation_data=x_test,validation_steps=8)"
   ]
  },
  {
   "cell_type": "code",
   "execution_count": 23,
   "metadata": {},
   "outputs": [],
   "source": [
    "model.save(\"cnn.h5\")"
   ]
  },
  {
   "cell_type": "code",
   "execution_count": 24,
   "metadata": {},
   "outputs": [
    {
     "name": "stdout",
     "output_type": "stream",
     "text": [
      "{'Acitimic keratoses': 0, 'Basal cell carcinoma': 1, 'Benign': 2, 'Dermatofibroma': 3, 'Melanocytic nevi': 4, 'Melanoma': 5}\n"
     ]
    }
   ],
   "source": [
    "print(x_train.class_indices)"
   ]
  },
  {
   "cell_type": "code",
   "execution_count": null,
   "metadata": {},
   "outputs": [],
   "source": []
  }
 ],
 "metadata": {
  "kernelspec": {
   "display_name": "Python 3",
   "language": "python",
   "name": "python3"
  },
  "language_info": {
   "codemirror_mode": {
    "name": "ipython",
    "version": 3
   },
   "file_extension": ".py",
   "mimetype": "text/x-python",
   "name": "python",
   "nbconvert_exporter": "python",
   "pygments_lexer": "ipython3",
   "version": "3.7.6"
  }
 },
 "nbformat": 4,
 "nbformat_minor": 4
}
